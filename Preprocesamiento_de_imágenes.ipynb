{
  "nbformat": 4,
  "nbformat_minor": 0,
  "metadata": {
    "colab": {
      "provenance": []
    },
    "kernelspec": {
      "name": "python3",
      "display_name": "Python 3"
    },
    "language_info": {
      "name": "python"
    }
  },
  "cells": [
    {
      "cell_type": "code",
      "source": [
        "import tensorflow as tf\n",
        "import cv2\n",
        "import os\n",
        "import numpy as np"
      ],
      "metadata": {
        "id": "lXsS1e5ZATRk"
      },
      "execution_count": null,
      "outputs": []
    },
    {
      "cell_type": "code",
      "source": [
        "# Lista de nombres de archivo de imágenes en el directorio\n",
        "nombres_imagenes = os.listdir('./data')"
      ],
      "metadata": {
        "id": "hUxwGzpBATNd"
      },
      "execution_count": null,
      "outputs": []
    },
    {
      "cell_type": "code",
      "source": [
        "# Función para aplicar la transformada de Fourier a una imagen\n",
        "def aplicar_fft_a_imagen(imagen, filtro_gaussiano=True, sigma=1.0):\n",
        "    # Aplicar la transformada de Fourier 2D\n",
        "    imagen_fft = np.fft.fft2(imagen)\n",
        "\n",
        "    # Desplazar el componente de baja frecuencia al centro\n",
        "    imagen_fft_desplazada = np.fft.fftshift(imagen_fft)\n",
        "\n",
        "    # Calcular el logaritmo de la magnitud para una mejor visualización\n",
        "    magnitud_fft = np.log(np.abs(imagen_fft_desplazada) + 1)\n",
        "\n",
        "    # Aplicar un filtro Gaussiano para eliminar ruido\n",
        "    if filtro_gaussiano:\n",
        "        # Crear un filtro Gaussiano en el dominio de la frecuencia\n",
        "        rows, cols = imagen.shape\n",
        "        x = np.linspace(-cols/2, cols/2, cols)\n",
        "        y = np.linspace(-rows/2, rows/2, rows)\n",
        "        x, y = np.meshgrid(x, y)\n",
        "        filtro_gaussiano = np.exp(-(x**2 + y**2) / (2 * sigma**2))\n",
        "\n",
        "        # Aplicar el filtro Gaussiano a la imagen en el dominio de la frecuencia\n",
        "        imagen_fft_filtrada = imagen_fft_desplazada * filtro_gaussiano\n",
        "\n",
        "        # Deshacer el desplazamiento\n",
        "        imagen_fft_filtrada = np.fft.ifftshift(imagen_fft_filtrada)\n",
        "\n",
        "        # Aplicar la transformada inversa de Fourier\n",
        "        imagen_filtrada = np.fft.ifft2(imagen_fft_filtrada).real\n",
        "\n",
        "        return magnitud_fft, imagen_filtrada\n",
        "    else:\n",
        "        return magnitud_fft\n",
        "\n",
        "# Función para cargar y las imagenes preprocesadas\n",
        "def cargar_y_preprocesar_imagen(ruta_imagen):\n",
        "    imagen = cv2.imread(ruta_imagen, cv2.IMREAD_GRAYSCALE)  # Cargar imagen en escala de grises\n",
        "    imagen = cv2.resize(imagen, (224, 224))  # Cambiar el tamaño de la imagen según las necesidades de tu modelo\n",
        "    imagen = tf.keras.applications.mobilenet_v2.preprocess_input(imagen)  # Preprocesar la imagen para MobileNetV2\n",
        "    return imagen"
      ],
      "metadata": {
        "id": "VmGZm_COATCd"
      },
      "execution_count": null,
      "outputs": []
    },
    {
      "cell_type": "code",
      "source": [
        "# Procesar cada imagen en el directorio\n",
        "for nombre_imagen in nombres_imagenes:\n",
        "    ruta_imagen = os.path.join(directorio, nombre_imagen)\n",
        "\n",
        "    # Cargar la imagen utilizando OpenCV\n",
        "    imagen = cv2.imread(ruta_imagen, cv2.IMREAD_GRAYSCALE)  # Convierte la imagen a escala de grises\n",
        "\n",
        "    # Aplicar la transformada de Fourier a la imagen\n",
        "    imagen_fft = aplicar_fft_a_imagen(imagen)\n",
        "\n",
        "    # Guardar la imagen procesada en un nuevo archivo\n",
        "    nombre_imagen_salida = f'fft_{nombre_imagen}'\n",
        "    ruta_imagen_salida = os.path.join(directorio, nombre_imagen_salida)\n",
        "    cv2.imwrite(ruta_imagen_salida, imagen_fft)\n",
        "\n",
        "print(\"Procesamiento de imágenes completado.\")\n"
      ],
      "metadata": {
        "id": "qmD3WjFsAMVg"
      },
      "execution_count": null,
      "outputs": []
    },
    {
      "cell_type": "code",
      "source": [
        "nombres_imagenes = [nombre for nombre in os.listdir(directorio) if nombre.startswith('fft_')]\n",
        "modelo_neuronal = tf.keras.applications.MobileNetV2(weights='imagenet', include_top=False)\n",
        "\n",
        "# Crear listas para almacenar las imágenes y etiquetas\n",
        "imagenes = []\n",
        "etiquetas = []\n",
        "\n",
        "# Cargar las imágenes procesadas y asignar etiquetas\n",
        "for nombre_imagen in nombres_imagenes:\n",
        "    ruta_imagen = os.path.join(directorio, nombre_imagen)\n",
        "    imagen = cargar_y_preprocesar_imagen(ruta_imagen)\n",
        "    etiqueta = 0  # Asigna la etiqueta adecuada a cada imagen\n",
        "    imagenes.append(imagen)\n",
        "    etiquetas.append(etiqueta)\n",
        "\n",
        "# Convertir las listas a matrices NumPy\n",
        "imagenes = np.array(imagenes)\n",
        "etiquetas = np.array(etiquetas)\n",
        "\n",
        "# Introduciriamos aqui el array de imagenes al modelo\n",
        "resultados = modelo_neuronal.predict(imagenes)\n"
      ],
      "metadata": {
        "id": "WyZOIbR1A-tJ"
      },
      "execution_count": null,
      "outputs": []
    }
  ]
}