{
  "cells": [
    {
      "cell_type": "code",
      "execution_count": 32,
      "metadata": {
        "id": "lXsS1e5ZATRk"
      },
      "outputs": [],
      "source": [
        "import tensorflow as tf\n",
        "import cv2\n",
        "import os   \n",
        "import numpy as np"
      ]
    },
    {
      "cell_type": "code",
      "execution_count": 33,
      "metadata": {
        "id": "hUxwGzpBATNd"
      },
      "outputs": [],
      "source": [
        "# Lista de nombres de archivo de imágenes en el directorio\n",
        "nombres_imagenes_normales = os.listdir('./data')"
      ]
    },
    {
      "cell_type": "code",
      "execution_count": 34,
      "metadata": {
        "id": "VmGZm_COATCd"
      },
      "outputs": [],
      "source": [
        "# Función para aplicar la transformada de Fourier a una imagen\n",
        "def aplicar_fft_a_imagen(imagen, filtro_gaussiano=True, sigma=1.0):\n",
        "    # Aplicar la transformada de Fourier 2D\n",
        "    imagen_fft = np.fft.fft2(imagen)\n",
        "\n",
        "    # Desplazar el componente de baja frecuencia al centro\n",
        "    imagen_fft_desplazada = np.fft.fftshift(imagen_fft)\n",
        "\n",
        "    # Calcular el logaritmo de la magnitud para una mejor visualización\n",
        "    magnitud_fft = np.log(np.abs(imagen_fft_desplazada) + 1)\n",
        "\n",
        "    # Aplicar un filtro Gaussiano para eliminar ruido\n",
        "    if filtro_gaussiano:\n",
        "        # Crear un filtro Gaussiano en el dominio de la frecuencia\n",
        "        rows, cols = imagen.shape\n",
        "        x = np.linspace(-cols/2, cols/2, cols)\n",
        "        y = np.linspace(-rows/2, rows/2, rows)\n",
        "        x, y = np.meshgrid(x, y)\n",
        "        filtro_gaussiano = np.exp(-(x**2 + y**2) / (2 * sigma**2))\n",
        "\n",
        "        # Aplicar el filtro Gaussiano a la imagen en el dominio de la frecuencia\n",
        "        imagen_fft_filtrada = imagen_fft_desplazada * filtro_gaussiano\n",
        "\n",
        "        # Deshacer el desplazamiento\n",
        "        imagen_fft_filtrada = np.fft.ifftshift(imagen_fft_filtrada)\n",
        "\n",
        "        # Aplicar la transformada inversa de Fourier\n",
        "        imagen_filtrada = np.fft.ifft2(imagen_fft_filtrada).real\n",
        "\n",
        "        return magnitud_fft, imagen_filtrada\n",
        "    else:\n",
        "        return magnitud_fft\n",
        "\n",
        "# Función para cargar y las imagenes preprocesadas\n",
        "def cargar_y_preprocesar_imagen(ruta_imagen):\n",
        "    imagen = cv2.imread(ruta_imagen, cv2.IMREAD_GRAYSCALE)  # Cargar imagen en escala de grises\n",
        "    imagen = cv2.resize(imagen, (224, 224))  # Cambiar el tamaño de la imagen según las necesidades de tu modelo\n",
        "    imagen = tf.keras.applications.mobilenet_v2.preprocess_input(imagen)  # Preprocesar la imagen para MobileNetV2\n",
        "    return imagen"
      ]
    },
    {
      "cell_type": "code",
      "execution_count": 41,
      "metadata": {
        "id": "qmD3WjFsAMVg"
      },
      "outputs": [
        {
          "name": "stdout",
          "output_type": "stream",
          "text": [
            "Procesamiento de imágenes completado.\n"
          ]
        }
      ],
      "source": [
        "# Procesar cada imagen en el directorio\n",
        "for nombre_imagen in nombres_imagenes_normales:\n",
        "    ruta_imagen = os.path.join(\"./data\", nombre_imagen)\n",
        "\n",
        "    # Cargar la imagen utilizando OpenCV\n",
        "    imagen = cv2.imread(ruta_imagen, cv2.IMREAD_GRAYSCALE)  # Convierte la imagen a escala de grises\n",
        "\n",
        "    # Aplicar la transformada de Fourier a la imagen\n",
        "    imagen_fft = aplicar_fft_a_imagen(imagen)\n",
        "\n",
        "    # Guardar la imagen procesada en un nuevo archivo\n",
        "    nombre_imagen_salida = f'fft_{nombre_imagen}'\n",
        "    ruta_imagen_salida = os.path.join(\"./Preprocesado/\", nombre_imagen_salida)\n",
        "    cv2.imwrite(ruta_imagen_salida, imagen_fft[1])\n",
        "\n",
        "print(\"Procesamiento de imágenes completado.\")"
      ]
    }
  ],
  "metadata": {
    "colab": {
      "provenance": []
    },
    "kernelspec": {
      "display_name": "Python 3",
      "name": "python3"
    },
    "language_info": {
      "codemirror_mode": {
        "name": "ipython",
        "version": 3
      },
      "file_extension": ".py",
      "mimetype": "text/x-python",
      "name": "python",
      "nbconvert_exporter": "python",
      "pygments_lexer": "ipython3",
      "version": "3.10.13"
    }
  },
  "nbformat": 4,
  "nbformat_minor": 0
}
