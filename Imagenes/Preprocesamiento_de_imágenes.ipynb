{
  "cells": [
    {
      "cell_type": "code",
      "execution_count": 1,
      "metadata": {
        "id": "lXsS1e5ZATRk"
      },
      "outputs": [],
      "source": [
        "import cv2\n",
        "import os   \n",
        "import numpy as np\n",
        "import pywt\n",
        "import matplotlib.pyplot as plt\n",
        "from skimage.filters import gabor\n",
        "from scipy.signal import convolve2d"
      ]
    },
    {
      "cell_type": "code",
      "execution_count": 2,
      "metadata": {
        "id": "hUxwGzpBATNd"
      },
      "outputs": [],
      "source": [
        "# Lista de nombres de archivo de imágenes en el directorio\n",
        "nombres_imagenes_normales = os.listdir('./data')"
      ]
    },
    {
      "cell_type": "code",
      "execution_count": 61,
      "metadata": {
        "id": "VmGZm_COATCd"
      },
      "outputs": [],
      "source": [
        "def aplicar_fft_a_imagen(imagen, umbral_suavizado=0.1):\n",
        "    # Aplicar la transformada de Fourier 2D\n",
        "    imagen_fft = np.fft.fft2(imagen)\n",
        "\n",
        "    # Desplazar el componente de baja frecuencia al centro\n",
        "    imagen_fft_desplazada = np.fft.fftshift(imagen_fft)\n",
        "\n",
        "    # Calcular la magnitud del espectro de frecuencias\n",
        "    magnitud_fft = np.abs(imagen_fft_desplazada)\n",
        "\n",
        "    # Normalizar la magnitud para que esté en el rango [0, 1]\n",
        "    magnitud_fft_normalized = magnitud_fft / np.max(magnitud_fft)\n",
        "\n",
        "    # Aplicar el umbral de suavizado en la magnitud normalizada\n",
        "    magnitud_fft_suavizada = magnitud_fft_normalized.copy()\n",
        "    magnitud_fft_suavizada[magnitud_fft_normalized < umbral_suavizado] = 0\n",
        "\n",
        "    # Crear un filtro de ventana para suavizar las transiciones\n",
        "    filtro_ventana = cv2.getGaussianKernel(len(magnitud_fft_suavizada), 30)\n",
        "    filtro_ventana = filtro_ventana * filtro_ventana.T\n",
        "    magnitud_fft_suavizada = magnitud_fft_suavizada * filtro_ventana\n",
        "\n",
        "    # Obtener la imagen suavizada en el dominio de la frecuencia\n",
        "    imagen_fft_suavizada = imagen_fft_desplazada * np.exp(1j * np.angle(imagen_fft_desplazada)) * magnitud_fft_suavizada\n",
        "\n",
        "    # Deshacer el desplazamiento\n",
        "    imagen_fft_suavizada = np.fft.ifftshift(imagen_fft_suavizada)\n",
        "\n",
        "    # Aplicar la transformada inversa de Fourier\n",
        "    imagen_suavizada = np.fft.ifft2(imagen_fft_suavizada).real\n",
        "\n",
        "    return magnitud_fft_suavizada, imagen_suavizada\n",
        "\n",
        "def aplicar_wav_a_imagen(imagen, wavelet='haar', kernel=2, level=1, sigma=0.1):\n",
        "    # Convertir la imagen a escala de grises si es una imagen a color\n",
        "    if len(imagen.shape) == 3:\n",
        "        imagen = cv2.cvtColor(imagen, cv2.COLOR_BGR2GRAY)\n",
        "\n",
        "    # Aplicar 2D Discrete Wavelet Transform\n",
        "    coeffs = pywt.wavedec2(imagen, wavelet, level=level)\n",
        "\n",
        "    # Obtener las dimensiones de la imagen wavelet\n",
        "    rows, cols = imagen.shape\n",
        "\n",
        "    # Realizar la convolución directamente en coeffs[0]\n",
        "    coeffs[0] = convol(coeffs[0], kernel)\n",
        "\n",
        "    # Reconstruir la imagen filtrada\n",
        "    imagen_filtrada = pywt.waverec2(coeffs, wavelet)\n",
        "\n",
        "    return imagen_filtrada\n",
        "\n",
        "def filtro_paso_alto(imagen, kernel_size=3):\n",
        "    # Convierte la imagen a escala de grises si no lo está\n",
        "    if len(imagen.shape) == 3:\n",
        "        imagen = cv2.cvtColor(imagen, cv2.COLOR_BGR2GRAY)\n",
        "\n",
        "    # Aplica un filtro de suavizado (puede ser un filtro gaussiano)\n",
        "    suavizado = cv2.GaussianBlur(imagen, (kernel_size, kernel_size), 0)\n",
        "\n",
        "    # Aplica el filtro de paso alto (resta la imagen suavizada de la original)\n",
        "    paso_alto = imagen - suavizado\n",
        "\n",
        "    return paso_alto\n",
        "\n",
        "def filtro_paso_bajo(imagen, kernel_size=3):\n",
        "    # Aplica un filtro gaussiano\n",
        "    suavizado = cv2.GaussianBlur(imagen, (kernel_size, kernel_size), 0)\n",
        "\n",
        "    return suavizado\n",
        "\n",
        "def convol(imagen, k = 5):\n",
        "    # Define el kernel (por ejemplo, un filtro promedio de 3x3)\n",
        "    kernel = np.ones((k, k), dtype=float) / 9\n",
        "\n",
        "    # Convierte la imagen a escala de grises si no lo está\n",
        "    if len(imagen.shape) == 3:\n",
        "        imagen = cv2.cvtColor(imagen, cv2.COLOR_BGR2GRAY)\n",
        "\n",
        "    # Normaliza la imagen al rango [0, 1]\n",
        "    imagen = imagen.astype(float) / 255.0\n",
        "\n",
        "    # Asegúrate de que la imagen sea 2-D\n",
        "    if len(imagen.shape) > 2:\n",
        "        imagen = np.mean(imagen, axis=-1)\n",
        "\n",
        "    # Aplica la convolución usando scipy.signal.convolve2d\n",
        "    resultado = convolve2d(imagen, kernel, mode='same', boundary='symm')\n",
        "\n",
        "    # Escala el resultado al rango [0, 255]\n",
        "    resultado = (resultado * 255).astype(np.uint8)\n",
        "\n",
        "    return resultado\n",
        "\n",
        "def filtrar_ruido_gabor(imagen, frecuencia, orientacion, tamano_kernel):\n",
        "    # Crea un filtro de Gabor\n",
        "    filtro_gabor = cv2.getGaborKernel((tamano_kernel, tamano_kernel), frecuencia, orientacion, 10.0, 0.5, 0, ktype=cv2.CV_32F)\n",
        "\n",
        "    # Aplica el filtro de Gabor a la imagen\n",
        "    imagen_filtrada = cv2.filter2D(imagen, cv2.CV_8UC3, filtro_gabor)\n",
        "\n",
        "    return imagen_filtrada\n"
      ]
    },
    {
      "cell_type": "code",
      "execution_count": 62,
      "metadata": {
        "id": "qmD3WjFsAMVg"
      },
      "outputs": [
        {
          "name": "stdout",
          "output_type": "stream",
          "text": [
            "Procesamiento de imágenes completado.\n"
          ]
        }
      ],
      "source": [
        "# Procesar cada imagen en el directorio\n",
        "for nombre_imagen in nombres_imagenes_normales:\n",
        "    ruta_imagen = os.path.join(\"./data\", nombre_imagen)\n",
        "\n",
        "    # Cargar la imagen utilizando OpenCV\n",
        "    imagen = cv2.imread(ruta_imagen, cv2.IMREAD_GRAYSCALE)  # Convierte la imagen a escala de grises\n",
        "\n",
        "    # Aplicar la transformada de Fourier a la imagen\n",
        "    imagen_fft = aplicar_fft_a_imagen(imagen)\n",
        "\n",
        "    # Guardar la imagen procesada en un nuevo archivo\n",
        "    nombre_imagen_salida = f'fft_{nombre_imagen}'\n",
        "    ruta_imagen_salida = os.path.join(\"./Preprocesado_fft/\", nombre_imagen_salida)\n",
        "    cv2.imwrite(ruta_imagen_salida, imagen_fft[1])\n",
        "\n",
        "print(\"Procesamiento de imágenes completado.\")"
      ]
    },
    {
      "cell_type": "code",
      "execution_count": 51,
      "metadata": {},
      "outputs": [
        {
          "name": "stdout",
          "output_type": "stream",
          "text": [
            "Procesamiento de imágenes completado.\n"
          ]
        }
      ],
      "source": [
        "# Wavelets\n",
        "for nombre_imagen in nombres_imagenes_normales:\n",
        "    ruta_imagen = os.path.join(\"./data\", nombre_imagen)\n",
        "\n",
        "    # Cargar la imagen utilizando OpenCV\n",
        "    imagen = cv2.imread(ruta_imagen, cv2.IMREAD_GRAYSCALE)  # Convierte la imagen a escala de grises\n",
        "\n",
        "    # Aplicar la transformada de Fourier a la imagen\n",
        "    imagen_wav = aplicar_wav_a_imagen(imagen)\n",
        "\n",
        "    # Guardar la imagen procesada en un nuevo archivo\n",
        "    nombre_imagen_salida = f'wav_{nombre_imagen}'\n",
        "    ruta_imagen_salida = os.path.join(\"./Preprocesado_wav/\", nombre_imagen_salida)\n",
        "    cv2.imwrite(ruta_imagen_salida, imagen_wav)\n",
        "\n",
        "print(\"Procesamiento de imágenes completado.\")"
      ]
    },
    {
      "cell_type": "code",
      "execution_count": 58,
      "metadata": {},
      "outputs": [
        {
          "name": "stdout",
          "output_type": "stream",
          "text": [
            "Procesamiento de imágenes completado.\n"
          ]
        }
      ],
      "source": [
        "# Gabor\n",
        "for nombre_imagen in nombres_imagenes_normales:\n",
        "    ruta_imagen = os.path.join(\"./data\", nombre_imagen)\n",
        "\n",
        "    # Cargar la imagen utilizando OpenCV\n",
        "    imagen = cv2.imread(ruta_imagen, cv2.IMREAD_GRAYSCALE)  # Convierte la imagen a escala de grises\n",
        "\n",
        "    # Aplicar la transformada de Fourier a la imagen\n",
        "    imagen_gabor = filtrar_ruido_gabor(imagen,0.5,0,3)\n",
        "\n",
        "    # Guardar la imagen procesada en un nuevo archivo\n",
        "    nombre_imagen_salida = f'gabor_{nombre_imagen}'\n",
        "    ruta_imagen_salida = os.path.join(\"./Preprocesado_gabor/\", nombre_imagen_salida)\n",
        "    cv2.imwrite(ruta_imagen_salida, imagen_gabor)\n",
        "\n",
        "print(\"Procesamiento de imágenes completado.\")"
      ]
    },
    {
      "cell_type": "code",
      "execution_count": 6,
      "metadata": {},
      "outputs": [],
      "source": [
        "#Con paso alto\n",
        "for nombre_imagen in nombres_imagenes_normales:\n",
        "    ruta_imagen = os.path.join(\"./data\", nombre_imagen)\n",
        "\n",
        "    # Cargar la imagen utilizando OpenCV\n",
        "    imagen = cv2.imread(ruta_imagen, cv2.IMREAD_GRAYSCALE)  # Convierte la imagen a escala de grises\n",
        "    imagen_nueva = filtro_paso_alto(imagen)\n",
        "    imagen_nueva2 = filtro_paso_bajo(imagen) \n",
        "\n",
        "    # Guardar la imagen procesada en un nuevo archivo\n",
        "    nombre_imagen_salida = f'alto_{nombre_imagen}'\n",
        "    ruta_imagen_salida = os.path.join(\"./Preprocesado_alto/\", nombre_imagen_salida)\n",
        "    cv2.imwrite(ruta_imagen_salida, np.abs(imagen_nueva))\n",
        "\n",
        "    nombre_imagen_salida = f'bajo_{nombre_imagen}'\n",
        "    ruta_imagen_salida = os.path.join(\"./Preprocesado_bajo/\", nombre_imagen_salida)\n",
        "    cv2.imwrite(ruta_imagen_salida, np.abs(imagen_nueva2))"
      ]
    },
    {
      "cell_type": "code",
      "execution_count": 8,
      "metadata": {},
      "outputs": [],
      "source": [
        "#Convolucionar\n",
        "for nombre_imagen in nombres_imagenes_normales:\n",
        "    ruta_imagen = os.path.join(\"./data\", nombre_imagen)\n",
        "\n",
        "    # Cargar la imagen utilizando OpenCV\n",
        "    imagen = cv2.imread(ruta_imagen, cv2.IMREAD_GRAYSCALE)  # Convierte la imagen a escala de grises\n",
        "    imagen_nueva = convol(imagen)\n",
        "\n",
        "    # Guardar la imagen procesada en un nuevo archivo\n",
        "    nombre_imagen_salida = f'con_{nombre_imagen}'\n",
        "    ruta_imagen_salida = os.path.join(\"./Preprocesado_con/\", nombre_imagen_salida)\n",
        "    cv2.imwrite(ruta_imagen_salida, np.abs(imagen_nueva))"
      ]
    },
    {
      "cell_type": "code",
      "execution_count": null,
      "metadata": {},
      "outputs": [],
      "source": []
    }
  ],
  "metadata": {
    "colab": {
      "provenance": []
    },
    "kernelspec": {
      "display_name": "Python 3",
      "name": "python3"
    },
    "language_info": {
      "codemirror_mode": {
        "name": "ipython",
        "version": 3
      },
      "file_extension": ".py",
      "mimetype": "text/x-python",
      "name": "python",
      "nbconvert_exporter": "python",
      "pygments_lexer": "ipython3",
      "version": "3.10.13"
    }
  },
  "nbformat": 4,
  "nbformat_minor": 0
}
