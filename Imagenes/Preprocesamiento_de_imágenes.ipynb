{
  "cells": [
    {
      "cell_type": "code",
      "execution_count": 1,
      "metadata": {
        "id": "lXsS1e5ZATRk"
      },
      "outputs": [],
      "source": [
        "import cv2\n",
        "import os   \n",
        "import numpy as np\n",
        "import pywt"
      ]
    },
    {
      "cell_type": "code",
      "execution_count": 2,
      "metadata": {
        "id": "hUxwGzpBATNd"
      },
      "outputs": [],
      "source": [
        "# Lista de nombres de archivo de imágenes en el directorio\n",
        "nombres_imagenes_normales = os.listdir('./data')"
      ]
    },
    {
      "cell_type": "code",
      "execution_count": 20,
      "metadata": {
        "id": "VmGZm_COATCd"
      },
      "outputs": [],
      "source": [
        "# Función para aplicar la transformada de Fourier a una imagen\n",
        "def aplicar_fft_a_imagen(imagen, filtro_gaussiano=True, sigma=1.0):\n",
        "    # Aplicar la transformada de Fourier 2D\n",
        "    imagen_fft = np.fft.fft2(imagen)\n",
        "\n",
        "    # Desplazar el componente de baja frecuencia al centro\n",
        "    imagen_fft_desplazada = np.fft.fftshift(imagen_fft)\n",
        "\n",
        "    # Calcular el logaritmo de la magnitud para una mejor visualización\n",
        "    magnitud_fft = np.log(np.abs(imagen_fft_desplazada) + 1)\n",
        "\n",
        "    # Aplicar un filtro Gaussiano para eliminar ruido\n",
        "    if filtro_gaussiano:\n",
        "        # Crear un filtro Gaussiano en el dominio de la frecuencia\n",
        "        rows, cols = imagen.shape\n",
        "        x = np.linspace(-cols/2, cols/2, cols)\n",
        "        y = np.linspace(-rows/2, rows/2, rows)\n",
        "        x, y = np.meshgrid(x, y)\n",
        "        filtro_gaussiano = np.exp(-(x**2 + y**2) / (2 * sigma**2))\n",
        "\n",
        "        # Aplicar el filtro Gaussiano a la imagen en el dominio de la frecuencia\n",
        "        imagen_fft_filtrada = imagen_fft_desplazada * filtro_gaussiano\n",
        "\n",
        "        # Deshacer el desplazamiento\n",
        "        imagen_fft_filtrada = np.fft.ifftshift(imagen_fft_filtrada)\n",
        "\n",
        "        # Aplicar la transformada inversa de Fourier\n",
        "        imagen_filtrada = np.fft.ifft2(imagen_fft_filtrada).real\n",
        "\n",
        "        return magnitud_fft, imagen_filtrada\n",
        "    else:\n",
        "        return magnitud_fft\n",
        "\n",
        "def hgj3(imagen, wavelet='haar', level=1, sigma=0.1):\n",
        "    # Convertir la imagen a escala de grises si es una imagen a color\n",
        "    if len(imagen.shape) == 3:\n",
        "        imagen = cv2.cvtColor(imagen, cv2.COLOR_BGR2GRAY)\n",
        "\n",
        "    # Normalizar los valores de píxeles al rango [0, 1]\n",
        "    imagen = imagen / 255.0\n",
        "\n",
        "    # Aplicar 2D Discrete Wavelet Transform\n",
        "    coeffs = pywt.wavedec2(imagen, wavelet, level=level)\n",
        "\n",
        "    # Reconstruct the image from the coefficients\n",
        "    imagen_wavelet = pywt.waverec2(coeffs, wavelet)\n",
        "\n",
        "    rows, cols = imagen_wavelet.shape\n",
        "    x = np.linspace(-cols/2, cols/2, cols)\n",
        "    y = np.linspace(-rows/2, rows/2, rows)\n",
        "    x, y = np.meshgrid(x, y)\n",
        "    filtro_gaussiano = np.exp(-(x**2 + y**2) / (2 * sigma**2))\n",
        "\n",
        "    # Aplicar el filtro Gaussiano a la imagen\n",
        "    imagen_wavelet_filtrada = imagen_wavelet * filtro_gaussiano\n",
        "\n",
        "    return imagen_wavelet, imagen_wavelet_filtrada"
      ]
    },
    {
      "cell_type": "code",
      "execution_count": 14,
      "metadata": {
        "id": "qmD3WjFsAMVg"
      },
      "outputs": [
        {
          "name": "stdout",
          "output_type": "stream",
          "text": [
            "Procesamiento de imágenes completado.\n"
          ]
        }
      ],
      "source": [
        "# Procesar cada imagen en el directorio\n",
        "for nombre_imagen in nombres_imagenes_normales:\n",
        "    ruta_imagen = os.path.join(\"./data\", nombre_imagen)\n",
        "\n",
        "    # Cargar la imagen utilizando OpenCV\n",
        "    imagen = cv2.imread(ruta_imagen, cv2.IMREAD_GRAYSCALE)  # Convierte la imagen a escala de grises\n",
        "\n",
        "    # Aplicar la transformada de Fourier a la imagen\n",
        "    imagen_fft = aplicar_fft_a_imagen(imagen)\n",
        "\n",
        "    # Guardar la imagen procesada en un nuevo archivo\n",
        "    nombre_imagen_salida = f'fft_{nombre_imagen}'\n",
        "    ruta_imagen_salida = os.path.join(\"./Preprocesado_fft/\", nombre_imagen_salida)\n",
        "    cv2.imwrite(ruta_imagen_salida, imagen_fft[1])\n",
        "\n",
        "print(\"Procesamiento de imágenes completado.\")"
      ]
    },
    {
      "cell_type": "code",
      "execution_count": 23,
      "metadata": {},
      "outputs": [
        {
          "name": "stdout",
          "output_type": "stream",
          "text": [
            "Procesamiento de imágenes completado.\n"
          ]
        }
      ],
      "source": [
        "# Procesar cada imagen en el directorio\n",
        "for nombre_imagen in nombres_imagenes_normales:\n",
        "    ruta_imagen = os.path.join(\"./data\", nombre_imagen)\n",
        "\n",
        "    # Cargar la imagen utilizando OpenCV\n",
        "    imagen = cv2.imread(ruta_imagen, cv2.IMREAD_GRAYSCALE)  # Convierte la imagen a escala de grises\n",
        "\n",
        "    # Aplicar la transformada de Fourier a la imagen\n",
        "    imagen_wav = hgj3(imagen, wavelet='haar', level=1)\n",
        "\n",
        "    # Guardar la imagen procesada en un nuevo archivo\n",
        "    nombre_imagen_salida = f'wav_{nombre_imagen}'\n",
        "    ruta_imagen_salida = os.path.join(\"./Preprocesado_wav/\", nombre_imagen_salida)\n",
        "    cv2.imwrite(ruta_imagen_salida, imagen_wav[0])\n",
        "\n",
        "print(\"Procesamiento de imágenes completado.\")"
      ]
    },
    {
      "cell_type": "code",
      "execution_count": null,
      "metadata": {},
      "outputs": [],
      "source": []
    }
  ],
  "metadata": {
    "colab": {
      "provenance": []
    },
    "kernelspec": {
      "display_name": "Python 3",
      "name": "python3"
    },
    "language_info": {
      "codemirror_mode": {
        "name": "ipython",
        "version": 3
      },
      "file_extension": ".py",
      "mimetype": "text/x-python",
      "name": "python",
      "nbconvert_exporter": "python",
      "pygments_lexer": "ipython3",
      "version": "3.10.13"
    }
  },
  "nbformat": 4,
  "nbformat_minor": 0
}
